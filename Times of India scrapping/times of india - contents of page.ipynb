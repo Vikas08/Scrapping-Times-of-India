{
 "cells": [
  {
   "cell_type": "code",
   "execution_count": 1,
   "metadata": {
    "collapsed": true
   },
   "outputs": [],
   "source": [
    "#importng libraries\n",
    "import requests\n",
    "from bs4 import BeautifulSoup"
   ]
  },
  {
   "cell_type": "code",
   "execution_count": 2,
   "metadata": {
    "collapsed": true
   },
   "outputs": [],
   "source": [
    "#requesting the server to download contents of page\n",
    "page = requests.get(\"https://timesofindia.indiatimes.com/viral-news/twitterati-troll-kangana-by-posting-pics-with-hrithik-to-claim-they-had-an-affair-with-him/articleshow/61006205.cms?utm_source=Colombia&utm_medium=C1&utm_campaign=CTN&utm_ctn=16981866-129783\")"
   ]
  },
  {
   "cell_type": "code",
   "execution_count": 3,
   "metadata": {
    "collapsed": true
   },
   "outputs": [],
   "source": [
    "#making soup object\n",
    "soup = BeautifulSoup(page.content,'html.parser')"
   ]
  },
  {
   "cell_type": "code",
   "execution_count": 5,
   "metadata": {
    "collapsed": true
   },
   "outputs": [],
   "source": [
    "#getting the contents division of page\n",
    "content = soup.find(class_='main-content')"
   ]
  },
  {
   "cell_type": "code",
   "execution_count": 11,
   "metadata": {
    "collapsed": true
   },
   "outputs": [],
   "source": [
    "# finding the tags which contain headline of article \n",
    "heading_tag = content.find_all('h1')\n",
    "# Finding the headline\n",
    "heading = heading_tag[0].get_text()"
   ]
  },
  {
   "cell_type": "code",
   "execution_count": 22,
   "metadata": {},
   "outputs": [
    {
     "name": "stdout",
     "output_type": "stream",
     "text": [
      "The Kangana-Hrithik spat has divided social media into two camps. Fans of both Kangana and Hrithik are now doing all they can to extend support to their preferred star.  Just like Kangana's sister Rangoli posted an old pic of Hrithik and Kangana as a proof of their relationship, Hrithik fans too are going berserk sharing their own photos with junior Roshan to claim they also had an affair with him. With hashtag #HadAffairWithHrithik, fans are now trolling Kangana by taking a dig at Rangoli's so called evidence.  Here are some of the most viral tweets from this hashtag:   I had 10 yrs of relationship with @iHrithik and I only have this picture to prove @Rangoli_A 🤣🤣🤣 pic.twitter.com/JXJCg1VZ3L — Nidhi Chaudhary (@thenidhii) October 6, 2017   I had 17yrs of relationship with @iHrithik I think this pic is enough to prove na 😜@DeepikaBhardwaj pic.twitter.com/9aVgFPQa0W — SALONI (@iSaloniiSingh) October 7, 2017  However not just ordinary people, Hrithik had a lot of affairs with celebs and other high profile people.   Hrithik is the first n only Indian to have an affair with an alien. #HadAffairWithHrithik pic.twitter.com/DFDtilFzsC — Hrithik Roshan Fan (@iHrithiksSniper) October 7, 2017   I was also in a relationship with #HrithikRoshan & this is not photoshop... pic.twitter.com/3g4sndyUga — bHaskaRjyoti (@Bhaskar15251) October 7, 2017   Paris Hilton also #HadAffairWithHrithik  Guess we have two pics to prove that & not one. The best part - neither of them is photoshopped 😎 pic.twitter.com/d3jphG5xEK — CR7ᴴᴬᴸᴬ ᴹᴬᴰᴿᴵᴰ (@Sanket_HR) October 7, 2017   Their Eye Contact is Proof #Salman sir #HadAffairWithHrithik and I ve so many pictures of it ..@Rangoli_A 😂😂😂 pic.twitter.com/tRWVDduLgO — Hrithiks Lion🐯 (@ihrithikslion1) October 9, 2017   OMG😨😨 Hrithik had an affair with #Rajnikanth Sir as well.Look at the way they are hugging each other Itne affairs 😢😢#HadAffairWithHrithik pic.twitter.com/1fxZ5FzBTF — A_kaabil_Anand (@IANANDASHU) October 7, 2017  Even photoshoppers had a field day   These two successful women too #HadAffairWithHrithik, so what if its photoshopped, it should still be considered as solid proof. 😽 pic.twitter.com/48XzwhAMiT — Ray (@BeingAntiHero) October 7, 2017   Know who had an affair with Hrithik? Yeah, Hrithik 😉 #hadaffairwithhrithik pic.twitter.com/cFViE5WXqE — Reena Kaur (@ReenaKaurH) October 9, 2017  While few tried to reason with logic   LOL Rangoli , Hrithik often poses that way with women in parties. That doesnt mean relationship or affair pic.twitter.com/Xhl2I9Ka5v — Od (@odshek) October 5, 2017 \n"
     ]
    }
   ],
   "source": [
    "#extracting the contents of page\n",
    "for elements in(content.find_all(class_ = 'Normal')):\n",
    "    print(elements.get_text())"
   ]
  },
  {
   "cell_type": "code",
   "execution_count": null,
   "metadata": {
    "collapsed": true
   },
   "outputs": [],
   "source": []
  }
 ],
 "metadata": {
  "kernelspec": {
   "display_name": "Python 3",
   "language": "python",
   "name": "python3"
  },
  "language_info": {
   "codemirror_mode": {
    "name": "ipython",
    "version": 3
   },
   "file_extension": ".py",
   "mimetype": "text/x-python",
   "name": "python",
   "nbconvert_exporter": "python",
   "pygments_lexer": "ipython3",
   "version": "3.6.1"
  }
 },
 "nbformat": 4,
 "nbformat_minor": 2
}
